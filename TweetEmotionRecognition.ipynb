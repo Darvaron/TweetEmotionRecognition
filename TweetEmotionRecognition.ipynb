{
  "nbformat": 4,
  "nbformat_minor": 0,
  "metadata": {
    "colab": {
      "name": "TweetEmotionRecognition.ipynb",
      "provenance": [],
      "collapsed_sections": []
    },
    "kernelspec": {
      "name": "python3",
      "display_name": "Python 3"
    },
    "language_info": {
      "name": "python"
    },
    "accelerator": "GPU"
  },
  "cells": [
    {
      "cell_type": "markdown",
      "metadata": {
        "id": "pSjZKZ9SRFQK"
      },
      "source": [
        "# TweetEmotionRecognition\n",
        "Exploration of the data, preprocessing and creation, training and evaluation of the model.\n",
        "\n",
        "Dataset used: [Tweet Emotion Dataset](https://github.com/dair-ai/emotion_dataset)"
      ]
    },
    {
      "cell_type": "code",
      "metadata": {
        "id": "ak4JcPV1QfIl"
      },
      "source": [
        "!pip install nlp==0.4.0"
      ],
      "execution_count": null,
      "outputs": []
    },
    {
      "cell_type": "markdown",
      "metadata": {
        "id": "y0WDrz7uYM1t"
      },
      "source": [
        "### Setup and imports"
      ]
    },
    {
      "cell_type": "code",
      "metadata": {
        "id": "aXu_9VI2VCxy"
      },
      "source": [
        "%matplotlib inline\n",
        "\n",
        "import nlp\n",
        "import tensorflow as tf\n",
        "import numpy as np\n",
        "import matplotlib.pyplot as plt"
      ],
      "execution_count": 2,
      "outputs": []
    },
    {
      "cell_type": "markdown",
      "metadata": {
        "id": "WBCm7gF4YRhJ"
      },
      "source": [
        "### Importing Data"
      ]
    },
    {
      "cell_type": "code",
      "metadata": {
        "id": "eyOFpY4FXb8b"
      },
      "source": [
        "dataset = nlp.load_dataset('emotion')"
      ],
      "execution_count": null,
      "outputs": []
    },
    {
      "cell_type": "markdown",
      "metadata": {
        "id": "LHaLIa9QYqIv"
      },
      "source": [
        "The dataset imported contains test, train and validation"
      ]
    },
    {
      "cell_type": "code",
      "metadata": {
        "colab": {
          "base_uri": "https://localhost:8080/"
        },
        "id": "wH1m9NWmYhIq",
        "outputId": "603af1a4-327b-4114-843d-44bb7f2545e9"
      },
      "source": [
        "dataset"
      ],
      "execution_count": 4,
      "outputs": [
        {
          "output_type": "execute_result",
          "data": {
            "text/plain": [
              "{'test': Dataset(features: {'text': Value(dtype='string', id=None), 'label': Value(dtype='string', id=None)}, num_rows: 2000),\n",
              " 'train': Dataset(features: {'text': Value(dtype='string', id=None), 'label': Value(dtype='string', id=None)}, num_rows: 16000),\n",
              " 'validation': Dataset(features: {'text': Value(dtype='string', id=None), 'label': Value(dtype='string', id=None)}, num_rows: 2000)}"
            ]
          },
          "metadata": {
            "tags": []
          },
          "execution_count": 4
        }
      ]
    },
    {
      "cell_type": "code",
      "metadata": {
        "id": "FZf0iZ0DYn1E"
      },
      "source": [
        "test = dataset['test']\n",
        "train = dataset['train']\n",
        "validation = dataset['validation']"
      ],
      "execution_count": 5,
      "outputs": []
    },
    {
      "cell_type": "code",
      "metadata": {
        "colab": {
          "base_uri": "https://localhost:8080/"
        },
        "id": "Pse2yBpuY21U",
        "outputId": "8e928a47-17dd-42c5-d7c3-e0056d6e91d4"
      },
      "source": [
        "test"
      ],
      "execution_count": 6,
      "outputs": [
        {
          "output_type": "execute_result",
          "data": {
            "text/plain": [
              "Dataset(features: {'text': Value(dtype='string', id=None), 'label': Value(dtype='string', id=None)}, num_rows: 2000)"
            ]
          },
          "metadata": {
            "tags": []
          },
          "execution_count": 6
        }
      ]
    },
    {
      "cell_type": "code",
      "metadata": {
        "id": "QYzAH-WyY3kE"
      },
      "source": [
        "tweets_test = [x['text'] for x in test]\n",
        "labels_test = [x['label'] for x in test]\n",
        "\n",
        "tweets_train = [x['text'] for x in train]\n",
        "labels_train = [x['label'] for x in train]\n",
        "\n",
        "tweets_val = [x['text'] for x in validation]\n",
        "labels_val = [x['label'] for x in validation]"
      ],
      "execution_count": 7,
      "outputs": []
    },
    {
      "cell_type": "markdown",
      "metadata": {
        "id": "hcbPNf8gZtGF"
      },
      "source": [
        "Number of examples"
      ]
    },
    {
      "cell_type": "code",
      "metadata": {
        "colab": {
          "base_uri": "https://localhost:8080/"
        },
        "id": "ZMimhkEjZnze",
        "outputId": "7660f261-ca1b-4345-87b0-ebe9e6c3fbe0"
      },
      "source": [
        "print('Train examples: {} \\nTest examples: {} \\nValidation examples: {}'.format(len(tweets_train), len(tweets_test), len(tweets_val)))"
      ],
      "execution_count": 8,
      "outputs": [
        {
          "output_type": "stream",
          "text": [
            "Train examples: 16000 \n",
            "Test examples: 2000 \n",
            "Validation examples: 2000\n"
          ],
          "name": "stdout"
        }
      ]
    },
    {
      "cell_type": "markdown",
      "metadata": {
        "id": "Q-7J5MayaLWl"
      },
      "source": [
        "Some examples of the data"
      ]
    },
    {
      "cell_type": "code",
      "metadata": {
        "colab": {
          "base_uri": "https://localhost:8080/"
        },
        "id": "o0JG5lrwZwUk",
        "outputId": "45ce8510-4c90-4ca0-c9d1-42e0a83d73c5"
      },
      "source": [
        "for i in range(5):\n",
        "  print('Tweet: {} \\nEmotion: {}\\n'.format(tweets_test[i], labels_test[i]))"
      ],
      "execution_count": 9,
      "outputs": [
        {
          "output_type": "stream",
          "text": [
            "Tweet: im feeling rather rotten so im not very ambitious right now \n",
            "Emotion: sadness\n",
            "\n",
            "Tweet: im updating my blog because i feel shitty \n",
            "Emotion: sadness\n",
            "\n",
            "Tweet: i never make her separate from me because i don t ever want her to feel like i m ashamed with her \n",
            "Emotion: sadness\n",
            "\n",
            "Tweet: i left with my bouquet of red and yellow tulips under my arm feeling slightly more optimistic than when i arrived \n",
            "Emotion: joy\n",
            "\n",
            "Tweet: i was feeling a little vain when i did this one \n",
            "Emotion: sadness\n",
            "\n"
          ],
          "name": "stdout"
        }
      ]
    },
    {
      "cell_type": "markdown",
      "metadata": {
        "id": "MxhOnjBhczbt"
      },
      "source": [
        "### Tokenizer"
      ]
    },
    {
      "cell_type": "code",
      "metadata": {
        "id": "P-dQ0P6ba6C3"
      },
      "source": [
        "from tensorflow.keras.preprocessing.text import Tokenizer\n",
        "\n",
        "token = Tokenizer(num_words = 10000, oov_token= '<UNK>')"
      ],
      "execution_count": 10,
      "outputs": []
    },
    {
      "cell_type": "code",
      "metadata": {
        "id": "xQjIHeuscU2W"
      },
      "source": [
        "token.fit_on_texts(tweets_train)"
      ],
      "execution_count": 11,
      "outputs": []
    },
    {
      "cell_type": "markdown",
      "metadata": {
        "id": "1adXCaIFc5aK"
      },
      "source": [
        "### A bit data exploration"
      ]
    },
    {
      "cell_type": "code",
      "metadata": {
        "colab": {
          "base_uri": "https://localhost:8080/",
          "height": 638
        },
        "id": "SoJ7Mf7bi3NC",
        "outputId": "79f3529e-064a-4e46-8855-2d6a336baad9"
      },
      "source": [
        "plt.rcParams[\"figure.figsize\"] = (10,10)\n",
        "\n",
        "from collections import Counter\n",
        "\n",
        "words = [x.split(' ') for x in tweets_train]\n",
        "words_num = sum([len(l) for l in words])\n",
        "counter = Counter(words[0])\n",
        "for i in words[1:]: \n",
        "    counter.update(i)\n",
        "\n",
        "common_words = counter.most_common(10)\n",
        "nwords = [w for w, q in common_words]\n",
        "qwords = [q for w, q in common_words]\n",
        "\n",
        "plt.bar(nwords, qwords, color='green')\n",
        "plt.ylabel('Number of times')\n",
        "plt.xlabel('Words')\n",
        "plt.title('10 most common words')\n",
        "plt.show()\n",
        "print('Total words: {}'.format(words_num))"
      ],
      "execution_count": 12,
      "outputs": [
        {
          "output_type": "display_data",
          "data": {
            "image/png": "[encoded data removed]",
            "text/plain": [
              "<Figure size 720x720 with 1 Axes>"
            ]
          },
          "metadata": {
            "tags": [],
            "needs_background": "light"
          }
        },
        {
          "output_type": "stream",
          "text": [
            "Total words: 306661\n"
          ],
          "name": "stdout"
        }
      ]
    },
    {
      "cell_type": "code",
      "metadata": {
        "colab": {
          "base_uri": "https://localhost:8080/",
          "height": 689
        },
        "id": "INHdXyzXcx67",
        "outputId": "ce3eccd0-5039-4730-a9d3-051877e1352a"
      },
      "source": [
        "import statistics\n",
        "\n",
        "tweet_lenght = [len(x.split(' ')) for x in tweets_train]\n",
        "plt.hist(tweet_lenght, bins= len(set(tweet_lenght)), color='skyblue')\n",
        "plt.ylabel('Number of tweets')\n",
        "plt.xlabel('Number of words')\n",
        "plt.title('Length of tweets')\n",
        "plt.show()\n",
        "print('Average length of a tweet: {}'.format(statistics.mean([len(x.split(' ')) for x in tweets_train])))\n",
        "print('Mode: {}'.format(statistics.mode([len(x.split(' ')) for x in tweets_train])))\n",
        "print('Median: {}'.format(statistics.median([len(x.split(' ')) for x in tweets_train])))\n",
        "print('Standard deviation: {}'.format(statistics.pstdev([len(x.split(' ')) for x in tweets_train])))"
      ],
      "execution_count": 13,
      "outputs": [
        {
          "output_type": "display_data",
          "data": {
            "image/png": "[encoded data removed]",
            "text/plain": [
              "<Figure size 720x720 with 1 Axes>"
            ]
          },
          "metadata": {
            "tags": [],
            "needs_background": "light"
          }
        },
        {
          "output_type": "stream",
          "text": [
            "Average length of a tweet: 19.1663125\n",
            "Mode: 13\n",
            "Median: 17.0\n",
            "Standard deviation: 10.986561229627027\n"
          ],
          "name": "stdout"
        }
      ]
    },
    {
      "cell_type": "markdown",
      "metadata": {
        "id": "TyjTRvB0iJSx"
      },
      "source": [
        "We are facing an imbalanced classes problem"
      ]
    },
    {
      "cell_type": "code",
      "metadata": {
        "colab": {
          "base_uri": "https://localhost:8080/",
          "height": 877
        },
        "id": "iMzkRgDIddK-",
        "outputId": "2d159e6f-af5d-4586-b26b-6187981477c9"
      },
      "source": [
        "plt.rcParams[\"figure.figsize\"] = (15, 15)\n",
        "\n",
        "tags = set(labels_train)\n",
        "pie_cont = [labels_train.count(i) for i in tags]\n",
        "\n",
        "plt.subplot(211)\n",
        "plt.pie(pie_cont, labels= tags, shadow= True)\n",
        "\n",
        "plt.subplot(212)\n",
        "plt.hist(labels_train, color='purple', bins = 11)\n",
        "plt.ylabel('Number of tweets')\n",
        "plt.xlabel('Emotions')\n",
        "plt.title('Classes')\n",
        "plt.show()\n",
        "\n",
        "\n",
        "\n",
        "plt.show()"
      ],
      "execution_count": 14,
      "outputs": [
        {
          "output_type": "display_data",
          "data": {
            "image/png": "[encoded data removed]",
            "text/plain": [
              "<Figure size 1080x1080 with 2 Axes>"
            ]
          },
          "metadata": {
            "tags": [],
            "needs_background": "light"
          }
        }
      ]
    },
    {
      "cell_type": "markdown",
      "metadata": {
        "id": "-oUOP6NZxt-b"
      },
      "source": [
        "### Padding, Truncating Sequences and preparing labels"
      ]
    },
    {
      "cell_type": "code",
      "metadata": {
        "id": "phhQYnuyhblL"
      },
      "source": [
        "from tensorflow.keras.preprocessing.sequence import pad_sequences\n",
        "\n",
        "maxlen  = 50"
      ],
      "execution_count": 15,
      "outputs": []
    },
    {
      "cell_type": "code",
      "metadata": {
        "id": "L1CyFPsPyNDL"
      },
      "source": [
        "test_seq = token.texts_to_sequences(tweets_test)\n",
        "train_seq = token.texts_to_sequences(tweets_train)\n",
        "val_sq = token.texts_to_sequences(tweets_val)"
      ],
      "execution_count": 16,
      "outputs": []
    },
    {
      "cell_type": "code",
      "metadata": {
        "colab": {
          "base_uri": "https://localhost:8080/"
        },
        "id": "aklXLa5XzK93",
        "outputId": "aa6d3813-273c-4c88-e100-6573132bb082"
      },
      "source": [
        "test_padded = pad_sequences(sequences= test_seq, maxlen= maxlen, padding= 'post', truncating= 'post')\n",
        "train_padded = pad_sequences(sequences= train_seq, maxlen= maxlen, padding= 'post', truncating= 'post')\n",
        "val_padded = pad_sequences(sequences= val_sq, maxlen= maxlen, padding= 'post', truncating= 'post')\n",
        "\n",
        "print('Before : {} \\n After: {}'.format(tweets_test[0], test_padded[0]))"
      ],
      "execution_count": 17,
      "outputs": [
        {
          "output_type": "stream",
          "text": [
            "Before : im feeling rather rotten so im not very ambitious right now \n",
            " After: [  17    8  203  715   15   17   26   46 5595  114   58    0    0    0\n",
            "    0    0    0    0    0    0    0    0    0    0    0    0    0    0\n",
            "    0    0    0    0    0    0    0    0    0    0    0    0    0    0\n",
            "    0    0    0    0    0    0    0    0]\n"
          ],
          "name": "stdout"
        }
      ]
    },
    {
      "cell_type": "code",
      "metadata": {
        "colab": {
          "base_uri": "https://localhost:8080/"
        },
        "id": "rilpXWuDzoJY",
        "outputId": "f786ef9e-8b9e-4e4b-ecdc-cbc81c177249"
      },
      "source": [
        "classes = set(labels_train)\n",
        "\n",
        "classes_to_index = dict((c, i) for i, c in enumerate(classes))\n",
        "print(classes_to_index)"
      ],
      "execution_count": 18,
      "outputs": [
        {
          "output_type": "stream",
          "text": [
            "{'sadness': 0, 'surprise': 1, 'fear': 2, 'joy': 3, 'anger': 4, 'love': 5}\n"
          ],
          "name": "stdout"
        }
      ]
    },
    {
      "cell_type": "code",
      "metadata": {
        "colab": {
          "base_uri": "https://localhost:8080/"
        },
        "id": "-8YRvtwj0WmQ",
        "outputId": "9ffc37ce-f851-4e68-9398-453796b36f03"
      },
      "source": [
        "index_to_classes = dict((i, c) for c, i in classes_to_index.items())\n",
        "print(index_to_classes)"
      ],
      "execution_count": 19,
      "outputs": [
        {
          "output_type": "stream",
          "text": [
            "{0: 'sadness', 1: 'surprise', 2: 'fear', 3: 'joy', 4: 'anger', 5: 'love'}\n"
          ],
          "name": "stdout"
        }
      ]
    },
    {
      "cell_type": "code",
      "metadata": {
        "id": "MRP-AGOQ09hH"
      },
      "source": [
        "label_ind = lambda label: np.array([classes_to_index.get(l) for l in label]) "
      ],
      "execution_count": 20,
      "outputs": []
    },
    {
      "cell_type": "code",
      "metadata": {
        "colab": {
          "base_uri": "https://localhost:8080/"
        },
        "id": "iZyqNo840e6X",
        "outputId": "c182407b-1c73-4d21-e78d-78f8a638a67f"
      },
      "source": [
        "lab_ind_test = label_ind(labels_test)\n",
        "lab_ind_train = label_ind(labels_train)\n",
        "lab_ind_val = label_ind(labels_val)\n",
        "\n",
        "print('Tweet: {} \\nLabel: {} \\nIndex: {}'.format(tweets_test[0], labels_test[0], lab_ind_test[0]))"
      ],
      "execution_count": 21,
      "outputs": [
        {
          "output_type": "stream",
          "text": [
            "Tweet: im feeling rather rotten so im not very ambitious right now \n",
            "Label: sadness \n",
            "Index: 0\n"
          ],
          "name": "stdout"
        }
      ]
    },
    {
      "cell_type": "markdown",
      "metadata": {
        "id": "IsDRFnCu13LK"
      },
      "source": [
        "###Creating the Model"
      ]
    },
    {
      "cell_type": "code",
      "metadata": {
        "id": "n0co7Oq71rfm"
      },
      "source": [
        "Emodel = tf.keras.models.Sequential([\n",
        "                                    tf.keras.layers.Embedding(10000, 16, input_length = maxlen),\n",
        "                                    tf.keras.layers.Bidirectional(tf.keras.layers.LSTM(20, return_sequences=True)),\n",
        "                                    tf.keras.layers.Bidirectional(tf.keras.layers.LSTM(20)),\n",
        "                                    tf.keras.layers.Dense(6, activation= \"softmax\")\n",
        "])"
      ],
      "execution_count": 22,
      "outputs": []
    },
    {
      "cell_type": "code",
      "metadata": {
        "id": "Xq2GliAS5jxI"
      },
      "source": [
        "Emodel.compile(\n",
        "    loss= 'sparse_categorical_crossentropy',\n",
        "    optimizer= 'adam',\n",
        "    metrics= ['accuracy']\n",
        ")"
      ],
      "execution_count": 23,
      "outputs": []
    },
    {
      "cell_type": "code",
      "metadata": {
        "colab": {
          "base_uri": "https://localhost:8080/"
        },
        "id": "TWJUSi5P8LUx",
        "outputId": "1a856de0-1fb0-4072-8e33-6db9510399ee"
      },
      "source": [
        "Emodel.summary()"
      ],
      "execution_count": 24,
      "outputs": [
        {
          "output_type": "stream",
          "text": [
            "Model: \"sequential\"\n",
            "_________________________________________________________________\n",
            "Layer (type)                 Output Shape              Param #   \n",
            "=================================================================\n",
            "embedding (Embedding)        (None, 50, 16)            160000    \n",
            "_________________________________________________________________\n",
            "bidirectional (Bidirectional (None, 50, 40)            5920      \n",
            "_________________________________________________________________\n",
            "bidirectional_1 (Bidirection (None, 40)                9760      \n",
            "_________________________________________________________________\n",
            "dense (Dense)                (None, 6)                 246       \n",
            "=================================================================\n",
            "Total params: 175,926\n",
            "Trainable params: 175,926\n",
            "Non-trainable params: 0\n",
            "_________________________________________________________________\n"
          ],
          "name": "stdout"
        }
      ]
    },
    {
      "cell_type": "code",
      "metadata": {
        "colab": {
          "base_uri": "https://localhost:8080/",
          "height": 466
        },
        "id": "TSFIffpC8U6z",
        "outputId": "9c8badd3-577e-40b5-b56b-5a8a9b03ae9d"
      },
      "source": [
        "tf.keras.utils.plot_model(Emodel, '/content/drive/MyDrive/Colab Notebooks/Projects/ImagesEmotionR.png')"
      ],
      "execution_count": 25,
      "outputs": [
        {
          "output_type": "execute_result",
          "data": {
            "image/png": "[encoded data removed]",
            "text/plain": [
              "<IPython.core.display.Image object>"
            ]
          },
          "metadata": {
            "tags": []
          },
          "execution_count": 25
        }
      ]
    },
    {
      "cell_type": "code",
      "metadata": {
        "colab": {
          "base_uri": "https://localhost:8080/"
        },
        "id": "uJ0Alqi0QmFV",
        "outputId": "224d5564-5aef-4f3b-c21d-fe21d62568e7"
      },
      "source": [
        "lab_ind_train"
      ],
      "execution_count": 26,
      "outputs": [
        {
          "output_type": "execute_result",
          "data": {
            "text/plain": [
              "array([0, 0, 4, ..., 3, 4, 0])"
            ]
          },
          "metadata": {
            "tags": []
          },
          "execution_count": 26
        }
      ]
    },
    {
      "cell_type": "code",
      "metadata": {
        "colab": {
          "base_uri": "https://localhost:8080/"
        },
        "id": "2Sx3fczGKkjd",
        "outputId": "5e704a89-94b3-4342-8695-6b3ce38550ad"
      },
      "source": [
        "history = Emodel.fit( \n",
        "    train_padded,\n",
        "    lab_ind_train,\n",
        "    validation_data= (val_padded, lab_ind_val),\n",
        "    epochs = 20,\n",
        "    callbacks = [\n",
        "                 tf.keras.callbacks.EarlyStopping(monitor='val_accuracy', patience= 2)\n",
        "    ]\n",
        ")"
      ],
      "execution_count": 27,
      "outputs": [
        {
          "output_type": "stream",
          "text": [
            "Epoch 1/20\n",
            "500/500 [==============================] - 27s 43ms/step - loss: 1.3502 - accuracy: 0.4618 - val_loss: 0.8747 - val_accuracy: 0.6670\n",
            "Epoch 2/20\n",
            "500/500 [==============================] - 20s 41ms/step - loss: 0.6224 - accuracy: 0.7544 - val_loss: 0.6023 - val_accuracy: 0.7705\n",
            "Epoch 3/20\n",
            "500/500 [==============================] - 20s 41ms/step - loss: 0.3521 - accuracy: 0.8801 - val_loss: 0.5000 - val_accuracy: 0.8540\n",
            "Epoch 4/20\n",
            "500/500 [==============================] - 20s 40ms/step - loss: 0.2407 - accuracy: 0.9239 - val_loss: 0.4633 - val_accuracy: 0.8675\n",
            "Epoch 5/20\n",
            "500/500 [==============================] - 21s 41ms/step - loss: 0.1629 - accuracy: 0.9477 - val_loss: 0.5275 - val_accuracy: 0.8325\n",
            "Epoch 6/20\n",
            "500/500 [==============================] - 20s 41ms/step - loss: 0.1276 - accuracy: 0.9609 - val_loss: 0.4303 - val_accuracy: 0.8780\n",
            "Epoch 7/20\n",
            "500/500 [==============================] - 20s 40ms/step - loss: 0.1082 - accuracy: 0.9662 - val_loss: 0.3730 - val_accuracy: 0.8830\n",
            "Epoch 8/20\n",
            "500/500 [==============================] - 20s 40ms/step - loss: 0.0769 - accuracy: 0.9761 - val_loss: 0.4275 - val_accuracy: 0.8910\n",
            "Epoch 9/20\n",
            "500/500 [==============================] - 20s 40ms/step - loss: 0.0665 - accuracy: 0.9801 - val_loss: 0.3987 - val_accuracy: 0.8915\n",
            "Epoch 10/20\n",
            "500/500 [==============================] - 20s 40ms/step - loss: 0.0655 - accuracy: 0.9785 - val_loss: 0.3700 - val_accuracy: 0.8915\n",
            "Epoch 11/20\n",
            "500/500 [==============================] - 20s 40ms/step - loss: 0.0496 - accuracy: 0.9851 - val_loss: 0.4137 - val_accuracy: 0.8955\n",
            "Epoch 12/20\n",
            "500/500 [==============================] - 20s 40ms/step - loss: 0.0412 - accuracy: 0.9864 - val_loss: 0.5313 - val_accuracy: 0.8890\n",
            "Epoch 13/20\n",
            "500/500 [==============================] - 20s 40ms/step - loss: 0.0416 - accuracy: 0.9866 - val_loss: 0.4650 - val_accuracy: 0.8940\n"
          ],
          "name": "stdout"
        }
      ]
    },
    {
      "cell_type": "code",
      "metadata": {
        "id": "ut7RZMpPTA7o"
      },
      "source": [
        "history.history"
      ],
      "execution_count": null,
      "outputs": []
    },
    {
      "cell_type": "code",
      "metadata": {
        "id": "nvAJasFsNQPZ"
      },
      "source": [
        "def show_history(history):\n",
        "  epochs = len(history.history['accuracy'])\n",
        "  plt.figure(figsize=(16, 6))\n",
        "\n",
        "  plt.subplot(1, 2, 1)\n",
        "  plt.plot(range(0, epochs), history.history['accuracy'], label= 'Training')\n",
        "  plt.plot(range(0, epochs), history.history['val_accuracy'], label= 'Validation')\n",
        "  plt.ylim(0.0, 1.0)\n",
        "  plt.title('Accuracy during training')\n",
        "  plt.xlabel('Epochs')\n",
        "  plt.ylabel('Accuracy')\n",
        "  plt.legend()\n",
        "\n",
        "  plt.subplot(1, 2, 2)\n",
        "  plt.plot(range(0, epochs), history.history['loss'], label= 'Training')\n",
        "  plt.plot(range(0, epochs), history.history['val_loss'], label= 'Validation')\n",
        "  plt.title('Loss during training')\n",
        "  plt.xlabel('Epochs')\n",
        "  plt.ylabel('Loss')\n",
        "  plt.legend()\n",
        "\n",
        "  plt.show()\n",
        "\n",
        "def plot_confusion_matrix(y_true, y_pred):\n",
        "  from sklearn.metrics import confusion_matrix\n",
        "\n",
        "  cmatrix = confusion_matrix(y_true, y_pred, normalize='true')\n",
        "\n",
        "  plt.figure(figsize=(10, 10))\n",
        "  subp = plt.subplot(1, 1, 1)\n",
        "  cmat = subp.matshow(cmatrix)\n",
        "  plt.xticks(list(range(0, 6)), labels= list(classes))\n",
        "  plt.yticks(list(range(0, 6)), labels= list(classes))\n",
        "  plt.colorbar(cmat)\n",
        "  plt.show()"
      ],
      "execution_count": 29,
      "outputs": []
    },
    {
      "cell_type": "code",
      "metadata": {
        "colab": {
          "base_uri": "https://localhost:8080/",
          "height": 404
        },
        "id": "TMh_DWzHVzKx",
        "outputId": "f5e8e2d8-9613-4101-f3ff-1918a9bad542"
      },
      "source": [
        "show_history(history)"
      ],
      "execution_count": 30,
      "outputs": [
        {
          "output_type": "display_data",
          "data": {
            "image/png": "[encoded data removed]",
            "text/plain": [
              "<Figure size 1152x432 with 2 Axes>"
            ]
          },
          "metadata": {
            "tags": [],
            "needs_background": "light"
          }
        }
      ]
    },
    {
      "cell_type": "markdown",
      "metadata": {
        "id": "RoZrch_jWusC"
      },
      "source": [
        "### Evaluating the model"
      ]
    },
    {
      "cell_type": "code",
      "metadata": {
        "colab": {
          "base_uri": "https://localhost:8080/"
        },
        "id": "oRcW73HqV7NZ",
        "outputId": "2f935fcf-ebce-4f86-f2a3-46688d155bd4"
      },
      "source": [
        "h_ev = Emodel.evaluate(test_padded, lab_ind_test)\n",
        "print('Accuracy: {}'.format(h_ev[1]))"
      ],
      "execution_count": 31,
      "outputs": [
        {
          "output_type": "stream",
          "text": [
            "63/63 [==============================] - 1s 12ms/step - loss: 0.4937 - accuracy: 0.8895\n",
            "Accuracy: 0.8895000219345093\n"
          ],
          "name": "stdout"
        }
      ]
    },
    {
      "cell_type": "markdown",
      "metadata": {
        "id": "wsulRs3lYFAF"
      },
      "source": [
        "Testing 10 random examples"
      ]
    },
    {
      "cell_type": "code",
      "metadata": {
        "colab": {
          "base_uri": "https://localhost:8080/"
        },
        "id": "TDWImcxtWxLC",
        "outputId": "7988c499-e527-4d10-963c-4c2c4815c3d7"
      },
      "source": [
        "import random\n",
        "\n",
        "for i in range(10):\n",
        "  rnumber = random.randint(0, len(lab_ind_test) - 1)\n",
        "  print('Example {}'.format(rnumber))\n",
        "\n",
        "  print('Tweet: {}'.format(tweets_test[rnumber]))\n",
        "  print('Emotion: {}'.format(index_to_classes[lab_ind_test[rnumber]]))\n",
        "\n",
        "  p = Emodel.predict(np.expand_dims(test_padded[rnumber], axis = 0))[0]\n",
        "  predicted_class_t = index_to_classes[np.argmax(p).astype('uint8')]\n",
        "\n",
        "  print('Predicted Emotion: {}\\n'.format(predicted_class_t))"
      ],
      "execution_count": 34,
      "outputs": [
        {
          "output_type": "stream",
          "text": [
            "Example 1841\n",
            "Tweet: i always end up feeling unwelcome and sad\n",
            "Emotion: sadness\n",
            "Predicted Emotion: sadness\n",
            "\n",
            "Example 491\n",
            "Tweet: i grew up feeling rejected by my male peers\n",
            "Emotion: sadness\n",
            "Predicted Emotion: sadness\n",
            "\n",
            "Example 526\n",
            "Tweet: i have tried sorting out the area for the cat houses this lunchtime but i guess after the printer ordeal i am feeling quite uptight so it has been put on hold\n",
            "Emotion: fear\n",
            "Predicted Emotion: fear\n",
            "\n",
            "Example 73\n",
            "Tweet: i can feel that they are kind friendly and can understand my feelings\n",
            "Emotion: joy\n",
            "Predicted Emotion: joy\n",
            "\n",
            "Example 1954\n",
            "Tweet: i just feel so hopeless sometimes\n",
            "Emotion: sadness\n",
            "Predicted Emotion: sadness\n",
            "\n",
            "Example 1409\n",
            "Tweet: im feeling very doubtful about the necessity of that big coat\n",
            "Emotion: fear\n",
            "Predicted Emotion: fear\n",
            "\n",
            "Example 909\n",
            "Tweet: i feel love se inscrie intr un rafinament lejer romantic si extrem de feminin\n",
            "Emotion: love\n",
            "Predicted Emotion: love\n",
            "\n",
            "Example 1765\n",
            "Tweet: i have been learning and re learning the lesson that no matter how i feel about myself or even how others may feel about me i am treasured by god\n",
            "Emotion: love\n",
            "Predicted Emotion: love\n",
            "\n",
            "Example 782\n",
            "Tweet: i feel it is acceptable to make requests using this name\n",
            "Emotion: joy\n",
            "Predicted Emotion: joy\n",
            "\n",
            "Example 1514\n",
            "Tweet: i also tried after all that frustration when i was feeling none too energetic for more problems to work on the respirometry stuff which is going to be a huge nightmare\n",
            "Emotion: joy\n",
            "Predicted Emotion: joy\n",
            "\n"
          ],
          "name": "stdout"
        }
      ]
    },
    {
      "cell_type": "code",
      "metadata": {
        "colab": {
          "base_uri": "https://localhost:8080/",
          "height": 580
        },
        "id": "GvT0xUzEohM7",
        "outputId": "c06bc53e-d397-4030-c261-8bb19bcf4317"
      },
      "source": [
        "predicts = np.argmax(Emodel.predict(test_padded), axis=-1)\n",
        "plot_confusion_matrix(lab_ind_test, predicts)"
      ],
      "execution_count": 33,
      "outputs": [
        {
          "output_type": "display_data",
          "data": {
            "image/png": "[encoded data removed]",
            "text/plain": [
              "<Figure size 720x720 with 2 Axes>"
            ]
          },
          "metadata": {
            "tags": [],
            "needs_background": "light"
          }
        }
      ]
    },
    {
      "cell_type": "code",
      "metadata": {
        "colab": {
          "base_uri": "https://localhost:8080/"
        },
        "id": "BLYJg_xepjmq",
        "outputId": "0ddead59-5f55-4fa8-a38a-44ddbfabfe10"
      },
      "source": [
        "Emodel.save('/content/drive/MyDrive/Colab Notebooks/Projects/ImagesEmotionR/ERmodel')"
      ],
      "execution_count": 39,
      "outputs": [
        {
          "output_type": "stream",
          "text": [
            "WARNING:absl:Found untraced functions such as lstm_cell_1_layer_call_and_return_conditional_losses, lstm_cell_1_layer_call_fn, lstm_cell_2_layer_call_and_return_conditional_losses, lstm_cell_2_layer_call_fn, lstm_cell_4_layer_call_and_return_conditional_losses while saving (showing 5 of 20). These functions will not be directly callable after loading.\n"
          ],
          "name": "stderr"
        },
        {
          "output_type": "stream",
          "text": [
            "INFO:tensorflow:Assets written to: /content/drive/MyDrive/Colab Notebooks/Projects/ImagesEmotionR/ERmodel/assets\n"
          ],
          "name": "stdout"
        },
        {
          "output_type": "stream",
          "text": [
            "INFO:tensorflow:Assets written to: /content/drive/MyDrive/Colab Notebooks/Projects/ImagesEmotionR/ERmodel/assets\n"
          ],
          "name": "stderr"
        }
      ]
    },
    {
      "cell_type": "code",
      "metadata": {
        "id": "Bm5UVLMUuOUn"
      },
      "source": [
        "Emodel.save('/content/drive/MyDrive/Colab Notebooks/Projects/ImagesEmotionR/Emotionmodel.h5')"
      ],
      "execution_count": 38,
      "outputs": []
    }
  ]
}